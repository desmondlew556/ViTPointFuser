{
 "cells": [
  {
   "attachments": {},
   "cell_type": "markdown",
   "metadata": {},
   "source": [
    "Each of your .bin files should be a numpy.uint8 array; as a tip, you can save your predictions as follows:\n",
    "\n",
    "np.array(predictions).astype(np.uint8).tofile(bin_file_out)\n",
    "predictions: The predictions from your model (e.g. [30, 5, 18, ..., 30])\n",
    "bin_file_out: The path to write your .bin file to (e.g. /some/folder/<lidar_sample_data_token>_lidarseg.bin)\n",
    "Then you simply need to pass the path to the .bin file where your predictions for the given sample are to lidarseg_preds_bin_path for these functions:\n",
    "\n",
    "list_lidarseg_categories\n",
    "render_sample_data\n",
    "render_pointcloud_in_image\n",
    "render_sample\n",
    "For example, let's assume the predictions for my_sample is stored at /data/sets/nuscenes/lidarseg/v1.0-mini with the format <lidar_sample_data_token>_lidarseg.bin:"
   ]
  },
  {
   "attachments": {},
   "cell_type": "markdown",
   "metadata": {},
   "source": [
    "Ground truths"
   ]
  },
  {
   "cell_type": "code",
   "execution_count": null,
   "metadata": {},
   "outputs": [],
   "source": [
    "from nuscenes import NuScenes\n",
    "\n",
    "nusc = NuScenes(version='v1.0-mini', dataroot='/data/sets/nuscenes', verbose=True)"
   ]
  },
  {
   "cell_type": "code",
   "execution_count": null,
   "metadata": {},
   "outputs": [],
   "source": [
    "# nuscenes-lidarseg\n",
    "nusc.render_pointcloud_in_image(my_sample['token'],\n",
    "                                pointsensor_channel='LIDAR_TOP',\n",
    "                                camera_channel='CAM_BACK',\n",
    "                                render_intensity=False,\n",
    "                                show_lidarseg=True,\n",
    "                                filter_lidarseg_labels=[22, 23, 24],\n",
    "                                show_lidarseg_legend=True)"
   ]
  },
  {
   "cell_type": "code",
   "execution_count": null,
   "metadata": {},
   "outputs": [],
   "source": [
    "# show stuff category legends\n",
    "nusc.render_sample_data(sample_data_token,\n",
    "                        with_anns=False,\n",
    "                        show_lidarseg=True,\n",
    "                        show_lidarseg_legend=True,\n",
    "                        show_panoptic=True,\n",
    "                        show_panoptic=True)"
   ]
  },
  {
   "attachments": {},
   "cell_type": "markdown",
   "metadata": {},
   "source": [
    "Predictions - 2dpass\n"
   ]
  },
  {
   "cell_type": "code",
   "execution_count": null,
   "metadata": {},
   "outputs": [],
   "source": [
    "import os\n",
    "\n",
    "my_sample = nusc.sample[87]\n",
    "sample_data_token = my_sample['data']['LIDAR_TOP']\n",
    "my_predictions_bin_file = os.path.join('/data/sets/nuscenes/lidarseg/v1.0-mini', sample_data_token + '_lidarseg.bin')\n",
    "\n",
    "nusc.render_pointcloud_in_image(my_sample['token'],\n",
    "                                pointsensor_channel='LIDAR_TOP',\n",
    "                                camera_channel='CAM_BACK',\n",
    "                                render_intensity=False,\n",
    "                                show_lidarseg=True,\n",
    "                                filter_lidarseg_labels=[22, 23],\n",
    "                                show_lidarseg_legend=True,\n",
    "                                lidarseg_preds_bin_path=my_predictions_bin_file)"
   ]
  },
  {
   "cell_type": "markdown",
   "metadata": {},
   "source": []
  }
 ],
 "metadata": {
  "kernelspec": {
   "display_name": "bevfusion",
   "language": "python",
   "name": "python3"
  },
  "language_info": {
   "codemirror_mode": {
    "name": "ipython",
    "version": 3
   },
   "file_extension": ".py",
   "mimetype": "text/x-python",
   "name": "python",
   "nbconvert_exporter": "python",
   "pygments_lexer": "ipython3",
   "version": "3.8.15"
  },
  "orig_nbformat": 4,
  "vscode": {
   "interpreter": {
    "hash": "1cc97750ce7c849ad00ca7a1c5a487a3f55d0cac858caa73c224e7d73b751ba3"
   }
  }
 },
 "nbformat": 4,
 "nbformat_minor": 2
}
